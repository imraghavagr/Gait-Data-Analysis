{
 "cells": [
  {
   "cell_type": "code",
   "execution_count": 1,
   "metadata": {},
   "outputs": [],
   "source": [
    "#finding optimal k value "
   ]
  },
  {
   "cell_type": "code",
   "execution_count": 10,
   "metadata": {},
   "outputs": [],
   "source": [
    "import pandas as pd\n",
    "import numpy as np"
   ]
  },
  {
   "cell_type": "code",
   "execution_count": 3,
   "metadata": {},
   "outputs": [
    {
     "data": {
      "text/html": [
       "<div>\n",
       "<style scoped>\n",
       "    .dataframe tbody tr th:only-of-type {\n",
       "        vertical-align: middle;\n",
       "    }\n",
       "\n",
       "    .dataframe tbody tr th {\n",
       "        vertical-align: top;\n",
       "    }\n",
       "\n",
       "    .dataframe thead th {\n",
       "        text-align: right;\n",
       "    }\n",
       "</style>\n",
       "<table border=\"1\" class=\"dataframe\">\n",
       "  <thead>\n",
       "    <tr style=\"text-align: right;\">\n",
       "      <th></th>\n",
       "      <th>id</th>\n",
       "      <th>y</th>\n",
       "      <th>t</th>\n",
       "      <th>x1</th>\n",
       "      <th>x2</th>\n",
       "      <th>x3</th>\n",
       "      <th>x4</th>\n",
       "      <th>x5</th>\n",
       "      <th>x6</th>\n",
       "      <th>x7</th>\n",
       "      <th>x8</th>\n",
       "      <th>x9</th>\n",
       "      <th>x10</th>\n",
       "    </tr>\n",
       "  </thead>\n",
       "  <tbody>\n",
       "    <tr>\n",
       "      <th>0</th>\n",
       "      <td>1</td>\n",
       "      <td>walkontoe</td>\n",
       "      <td>44:19.9</td>\n",
       "      <td>0.2129</td>\n",
       "      <td>-0.7217</td>\n",
       "      <td>1.6621</td>\n",
       "      <td>10.9253</td>\n",
       "      <td>23.0713</td>\n",
       "      <td>-8.6670</td>\n",
       "      <td>-34.5081</td>\n",
       "      <td>-8.3386</td>\n",
       "      <td>-1.0931</td>\n",
       "      <td>33.8534</td>\n",
       "    </tr>\n",
       "    <tr>\n",
       "      <th>1</th>\n",
       "      <td>1</td>\n",
       "      <td>walkontoe</td>\n",
       "      <td>44:19.9</td>\n",
       "      <td>0.2188</td>\n",
       "      <td>-0.6841</td>\n",
       "      <td>1.7085</td>\n",
       "      <td>8.5449</td>\n",
       "      <td>24.7803</td>\n",
       "      <td>-6.6528</td>\n",
       "      <td>-34.3927</td>\n",
       "      <td>-8.1683</td>\n",
       "      <td>-1.2854</td>\n",
       "      <td>33.8564</td>\n",
       "    </tr>\n",
       "    <tr>\n",
       "      <th>2</th>\n",
       "      <td>1</td>\n",
       "      <td>walkontoe</td>\n",
       "      <td>44:19.9</td>\n",
       "      <td>0.2300</td>\n",
       "      <td>-0.6777</td>\n",
       "      <td>1.7251</td>\n",
       "      <td>0.1831</td>\n",
       "      <td>24.2310</td>\n",
       "      <td>-6.4697</td>\n",
       "      <td>-34.3652</td>\n",
       "      <td>-8.0035</td>\n",
       "      <td>-1.4777</td>\n",
       "      <td>33.8652</td>\n",
       "    </tr>\n",
       "    <tr>\n",
       "      <th>3</th>\n",
       "      <td>1</td>\n",
       "      <td>walkontoe</td>\n",
       "      <td>44:19.9</td>\n",
       "      <td>0.2358</td>\n",
       "      <td>-0.7075</td>\n",
       "      <td>1.6978</td>\n",
       "      <td>-9.2773</td>\n",
       "      <td>21.4844</td>\n",
       "      <td>-6.8359</td>\n",
       "      <td>-34.4312</td>\n",
       "      <td>-7.8662</td>\n",
       "      <td>-1.6589</td>\n",
       "      <td>33.8564</td>\n",
       "    </tr>\n",
       "    <tr>\n",
       "      <th>4</th>\n",
       "      <td>1</td>\n",
       "      <td>walkontoe</td>\n",
       "      <td>44:19.9</td>\n",
       "      <td>0.2378</td>\n",
       "      <td>-0.7476</td>\n",
       "      <td>1.6519</td>\n",
       "      <td>-12.8784</td>\n",
       "      <td>19.2261</td>\n",
       "      <td>-6.8359</td>\n",
       "      <td>-34.5355</td>\n",
       "      <td>-7.7454</td>\n",
       "      <td>-1.8237</td>\n",
       "      <td>33.8534</td>\n",
       "    </tr>\n",
       "  </tbody>\n",
       "</table>\n",
       "</div>"
      ],
      "text/plain": [
       "   id          y        t      x1      x2      x3       x4       x5      x6  \\\n",
       "0   1  walkontoe  44:19.9  0.2129 -0.7217  1.6621  10.9253  23.0713 -8.6670   \n",
       "1   1  walkontoe  44:19.9  0.2188 -0.6841  1.7085   8.5449  24.7803 -6.6528   \n",
       "2   1  walkontoe  44:19.9  0.2300 -0.6777  1.7251   0.1831  24.2310 -6.4697   \n",
       "3   1  walkontoe  44:19.9  0.2358 -0.7075  1.6978  -9.2773  21.4844 -6.8359   \n",
       "4   1  walkontoe  44:19.9  0.2378 -0.7476  1.6519 -12.8784  19.2261 -6.8359   \n",
       "\n",
       "        x7      x8      x9      x10  \n",
       "0 -34.5081 -8.3386 -1.0931  33.8534  \n",
       "1 -34.3927 -8.1683 -1.2854  33.8564  \n",
       "2 -34.3652 -8.0035 -1.4777  33.8652  \n",
       "3 -34.4312 -7.8662 -1.6589  33.8564  \n",
       "4 -34.5355 -7.7454 -1.8237  33.8534  "
      ]
     },
     "execution_count": 3,
     "metadata": {},
     "output_type": "execute_result"
    }
   ],
   "source": [
    "df = pd.read_csv('./data1.csv')\n",
    "df.head()"
   ]
  },
  {
   "cell_type": "code",
   "execution_count": 4,
   "metadata": {},
   "outputs": [],
   "source": [
    "for column in ['x1','x2','x3','x4','x5','x6','x7','x8','x9','x10']:\n",
    "    df[column]=df[column].fillna(df[column].mean())"
   ]
  },
  {
   "cell_type": "code",
   "execution_count": 5,
   "metadata": {},
   "outputs": [],
   "source": [
    "df=df.replace({'walkontoe':1, 'walkonheel':2, 'upstairs':3, 'downstairs':4, 'situps':5,'normalwalk':6, 'jogging':7, 'situp':8, 'upstair':9, 'downstair':10 })"
   ]
  },
  {
   "cell_type": "code",
   "execution_count": 6,
   "metadata": {},
   "outputs": [],
   "source": [
    "X=df.drop(['y','t','id'],axis=1)\n",
    "y=df['y']"
   ]
  },
  {
   "cell_type": "code",
   "execution_count": 7,
   "metadata": {},
   "outputs": [],
   "source": [
    "from sklearn.model_selection import train_test_split\n",
    "X_train, X_test, y_train, y_test = train_test_split(X, y, stratify=y, random_state=42)"
   ]
  },
  {
   "cell_type": "code",
   "execution_count": 8,
   "metadata": {},
   "outputs": [],
   "source": [
    "from sklearn.neighbors import KNeighborsClassifier"
   ]
  },
  {
   "cell_type": "code",
   "execution_count": 19,
   "metadata": {},
   "outputs": [],
   "source": [
    "error_rate = []\n",
    "# Will take some time\n",
    "for i in range(1,50):\n",
    " \n",
    " knn = KNeighborsClassifier(n_neighbors=i)\n",
    " knn.fit(X_train,y_train)\n",
    " pred_i = knn.predict(X_test)\n",
    " error_rate.append(np.mean(pred_i != y_test))"
   ]
  },
  {
   "cell_type": "code",
   "execution_count": 20,
   "metadata": {},
   "outputs": [],
   "source": [
    "import matplotlib.pyplot as plt"
   ]
  },
  {
   "cell_type": "code",
   "execution_count": 21,
   "metadata": {},
   "outputs": [
    {
     "data": {
      "text/plain": [
       "Text(0, 0.5, 'Error Rate')"
      ]
     },
     "execution_count": 21,
     "metadata": {},
     "output_type": "execute_result"
    },
    {
     "data": {
      "image/png": "[encoded data removed]",
      "text/plain": [
       "<Figure size 720x432 with 1 Axes>"
      ]
     },
     "metadata": {
      "needs_background": "light"
     },
     "output_type": "display_data"
    }
   ],
   "source": [
    "plt.figure(figsize=(10,6))\n",
    "plt.plot(range(1,50),error_rate,color='blue', linestyle='dashed', marker='o',\n",
    " markerfacecolor='red', markersize=10)\n",
    "plt.title(\"Error Rate vs. K Value\")\n",
    "plt.xlabel(\"K\")\n",
    "plt.ylabel(\"Error Rate\")"
   ]
  },
  {
   "cell_type": "code",
   "execution_count": 28,
   "metadata": {},
   "outputs": [],
   "source": [
    "# k = 3 is best k value"
   ]
  },
  {
   "cell_type": "code",
   "execution_count": 25,
   "metadata": {},
   "outputs": [
    {
     "name": "stdout",
     "output_type": "stream",
     "text": [
      "[[2735  116    8    0    5  131   18   28   19   53]\n",
      " [ 231 2356   21    4   12  150  108   63   22   30]\n",
      " [  51   23  465    0    0    2    2    1    3   23]\n",
      " [   0    8    0  562    0   14    0    0    5    0]\n",
      " [   6   15    7    0  514    3   52   14    2    0]\n",
      " [ 182  139   14   11   11 2023    8   14   30   15]\n",
      " [ 128  193   17   10   48   43 2230  113   26   55]\n",
      " [  90  101    5    0   25   53   67 1748   17   12]\n",
      " [  27   45    3    1    1   23    8    7 1237    0]\n",
      " [ 109   62   19    1    1   23   27   31    0 1105]]\n"
     ]
    }
   ],
   "source": [
    "from sklearn.metrics import confusion_matrix, classification_report\n",
    "knn_final = KNeighborsClassifier(n_neighbors=3)\n",
    "knn_final.fit(X_train,y_train)\n",
    "pred = knn_final.predict(X_test)\n",
    "\n",
    "print(confusion_matrix(y_test,pred))"
   ]
  },
  {
   "cell_type": "code",
   "execution_count": 26,
   "metadata": {},
   "outputs": [
    {
     "name": "stdout",
     "output_type": "stream",
     "text": [
      "              precision    recall  f1-score   support\n",
      "\n",
      "           1       0.77      0.88      0.82      3113\n",
      "           2       0.77      0.79      0.78      2997\n",
      "           3       0.83      0.82      0.82       570\n",
      "           4       0.95      0.95      0.95       589\n",
      "           5       0.83      0.84      0.84       613\n",
      "           6       0.82      0.83      0.82      2447\n",
      "           7       0.88      0.78      0.83      2863\n",
      "           8       0.87      0.83      0.85      2118\n",
      "           9       0.91      0.91      0.91      1352\n",
      "          10       0.85      0.80      0.83      1378\n",
      "\n",
      "    accuracy                           0.83     18040\n",
      "   macro avg       0.85      0.84      0.84     18040\n",
      "weighted avg       0.83      0.83      0.83     18040\n",
      "\n"
     ]
    }
   ],
   "source": [
    "print(classification_report(y_test,pred))"
   ]
  },
  {
   "cell_type": "code",
   "execution_count": 27,
   "metadata": {},
   "outputs": [
    {
     "data": {
      "text/plain": [
       "0.83009977827051"
      ]
     },
     "execution_count": 27,
     "metadata": {},
     "output_type": "execute_result"
    }
   ],
   "source": [
    "from sklearn.metrics import accuracy_score\n",
    "accuracy_score(y_test,pred)"
   ]
  },
  {
   "cell_type": "code",
   "execution_count": null,
   "metadata": {},
   "outputs": [],
   "source": []
  }
 ],
 "metadata": {
  "kernelspec": {
   "display_name": "Python 3",
   "language": "python",
   "name": "python3"
  },
  "language_info": {
   "codemirror_mode": {
    "name": "ipython",
    "version": 3
   },
   "file_extension": ".py",
   "mimetype": "text/x-python",
   "name": "python",
   "nbconvert_exporter": "python",
   "pygments_lexer": "ipython3",
   "version": "3.8.5"
  }
 },
 "nbformat": 4,
 "nbformat_minor": 5
}
